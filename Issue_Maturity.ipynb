{
  "nbformat": 4,
  "nbformat_minor": 0,
  "metadata": {
    "colab": {
      "name": "Untitled1.ipynb",
      "provenance": [],
      "collapsed_sections": []
    },
    "kernelspec": {
      "name": "python3",
      "display_name": "Python 3"
    }
  },
  "cells": [
    {
      "cell_type": "code",
      "metadata": {
        "id": "CDD7YpJ7Klai",
        "colab_type": "code",
        "colab": {
          "base_uri": "https://localhost:8080/",
          "height": 479
        },
        "outputId": "08c364fa-2c3c-4e0f-91d0-b91c1459228b"
      },
      "source": [
        "!pip install pdfminer\n",
        "!pip install pdfminer.six"
      ],
      "execution_count": null,
      "outputs": [
        {
          "output_type": "stream",
          "text": [
            "Collecting pdfminer\n",
            "\u001b[?25l  Downloading https://files.pythonhosted.org/packages/71/a3/155c5cde5f9c0b1069043b2946a93f54a41fd72cc19c6c100f6f2f5bdc15/pdfminer-20191125.tar.gz (4.2MB)\n",
            "\u001b[K     |████████████████████████████████| 4.2MB 4.4MB/s \n",
            "\u001b[?25hCollecting pycryptodome\n",
            "\u001b[?25l  Downloading https://files.pythonhosted.org/packages/17/55/17fa0b55849dc135f7bc400993a9206bf06d1b5d9520b0bc8d47c57aaef5/pycryptodome-3.9.8-cp36-cp36m-manylinux1_x86_64.whl (13.7MB)\n",
            "\u001b[K     |████████████████████████████████| 13.7MB 305kB/s \n",
            "\u001b[?25hBuilding wheels for collected packages: pdfminer\n",
            "  Building wheel for pdfminer (setup.py) ... \u001b[?25l\u001b[?25hdone\n",
            "  Created wheel for pdfminer: filename=pdfminer-20191125-cp36-none-any.whl size=6140056 sha256=9b62085b6ecdf351eb0de059bf1e2138e4c5440c24e71ee0a412ec0e9a78992a\n",
            "  Stored in directory: /root/.cache/pip/wheels/e1/00/af/720a55d74ba3615bb4709a3ded6dd71dc5370a586a0ff6f326\n",
            "Successfully built pdfminer\n",
            "Installing collected packages: pycryptodome, pdfminer\n",
            "Successfully installed pdfminer-20191125 pycryptodome-3.9.8\n",
            "Collecting pdfminer.six\n",
            "\u001b[?25l  Downloading https://files.pythonhosted.org/packages/98/12/ab5ebafc4cb2b49847de7bfc26f2d152f42a4af136263152d070c61dfd7d/pdfminer.six-20200726-py3-none-any.whl (5.6MB)\n",
            "\u001b[K     |████████████████████████████████| 5.6MB 24kB/s \n",
            "\u001b[?25hRequirement already satisfied: sortedcontainers in /usr/local/lib/python3.6/dist-packages (from pdfminer.six) (2.2.2)\n",
            "Collecting cryptography\n",
            "\u001b[?25l  Downloading https://files.pythonhosted.org/packages/ba/91/84a29d6a27fd6dfc21f475704c4d2053d58ed7a4033c2b0ce1b4ca4d03d9/cryptography-3.0-cp35-abi3-manylinux2010_x86_64.whl (2.7MB)\n",
            "\u001b[K     |████████████████████████████████| 2.7MB 45.9MB/s \n",
            "\u001b[?25hRequirement already satisfied: chardet; python_version > \"3.0\" in /usr/local/lib/python3.6/dist-packages (from pdfminer.six) (3.0.4)\n",
            "Requirement already satisfied: cffi!=1.11.3,>=1.8 in /usr/local/lib/python3.6/dist-packages (from cryptography->pdfminer.six) (1.14.1)\n",
            "Requirement already satisfied: six>=1.4.1 in /usr/local/lib/python3.6/dist-packages (from cryptography->pdfminer.six) (1.15.0)\n",
            "Requirement already satisfied: pycparser in /usr/local/lib/python3.6/dist-packages (from cffi!=1.11.3,>=1.8->cryptography->pdfminer.six) (2.20)\n",
            "Installing collected packages: cryptography, pdfminer.six\n",
            "Successfully installed cryptography-3.0 pdfminer.six-20200726\n"
          ],
          "name": "stdout"
        }
      ]
    },
    {
      "cell_type": "code",
      "metadata": {
        "id": "aNEzOaEKKnzI",
        "colab_type": "code",
        "colab": {
          "resources": {
            "http://localhost:8080/nbextensions/google.colab/files.js": {
              "data": "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",
              "ok": true,
              "headers": [
                [
                  "content-type",
                  "application/javascript"
                ]
              ],
              "status": 200,
              "status_text": ""
            }
          },
          "base_uri": "https://localhost:8080/",
          "height": 89
        },
        "outputId": "d7f1e7f2-365b-4c75-bced-6e9fc4082353"
      },
      "source": [
        "from google.colab import files\n",
        "uploaded = files.upload()\n",
        "print(uploaded.keys())"
      ],
      "execution_count": null,
      "outputs": [
        {
          "output_type": "display_data",
          "data": {
            "text/html": [
              "\n",
              "     <input type=\"file\" id=\"files-3c5617bf-b7e3-4f8e-a5e6-c741f748c66a\" name=\"files[]\" multiple disabled\n",
              "        style=\"border:none\" />\n",
              "     <output id=\"result-3c5617bf-b7e3-4f8e-a5e6-c741f748c66a\">\n",
              "      Upload widget is only available when the cell has been executed in the\n",
              "      current browser session. Please rerun this cell to enable.\n",
              "      </output>\n",
              "      <script src=\"/nbextensions/google.colab/files.js\"></script> "
            ],
            "text/plain": [
              "<IPython.core.display.HTML object>"
            ]
          },
          "metadata": {
            "tags": []
          }
        },
        {
          "output_type": "stream",
          "text": [
            "Saving CA13607GFB55.pdf to CA13607GFB55.pdf\n",
            "dict_keys(['CA13607GFB55.pdf'])\n"
          ],
          "name": "stdout"
        }
      ]
    },
    {
      "cell_type": "code",
      "metadata": {
        "id": "Xrk4ON3fKp9M",
        "colab_type": "code",
        "colab": {
          "base_uri": "https://localhost:8080/",
          "height": 54
        },
        "outputId": "554b7e0d-3762-4b09-bdcf-d0a6af6736de"
      },
      "source": [
        "import io\n",
        "from pdfminer.converter import TextConverter\n",
        "from pdfminer.pdfinterp import PDFPageInterpreter\n",
        "from pdfminer.pdfinterp import PDFResourceManager\n",
        "from pdfminer.pdfpage import PDFPage\n",
        "def extract_text_from_pdf(pdf_path):\n",
        "    resource_manager = PDFResourceManager()\n",
        "    fake_file_handle = io.StringIO()\n",
        "    converter = TextConverter(resource_manager, fake_file_handle)\n",
        "    page_interpreter = PDFPageInterpreter(resource_manager, converter)\n",
        "    with open(pdf_path, 'rb') as fh:\n",
        "        for page in PDFPage.get_pages(fh, \n",
        "                                      caching=True,\n",
        "                                      check_extractable=True):\n",
        "            page_interpreter.process_page(page)\n",
        "        text = fake_file_handle.getvalue()\n",
        "    # close open handles\n",
        "    converter.close()\n",
        "    fake_file_handle.close()\n",
        "    if text:\n",
        "        return text\n",
        "if __name__ == '__main__':\n",
        "  print(extract_text_from_pdf(list(uploaded.keys())[0]))"
      ],
      "execution_count": null,
      "outputs": [
        {
          "output_type": "stream",
          "text": [
            " - 1 -     FINAL TERMS OF CANADIAN IMPERIAL BANK OF COMMERCE  5 YEAR FIXED RATE SENIOR NOTES    Serial Number:  7277  ISIN:  CA13607GFB55  Principal Amount:  C$1,500,000,000  Issue Date:  August 28, 2019  Maturity Date:  August 28, 2024  Issue Price: 100%     Coupon Rate:  2.35%  Interest Payment Dates: Interest will be paid half-yearly in arrears on the 28th day of each February and August; commencing February 28, 2020, and ending on the Maturity Date. If a day that would otherwise have been an Interest Payment Date is not a Business Day, such Interest Payment Date shall be the first following day that is a Business Day, and no further interest or other payment will be made in respect of such delay.    Redemption: The Senior Notes are not redeemable prior to maturity. The foregoing notwithstanding, any redemption (for any reason) or purchase of the Senior Notes by the Bank will be subject to the condition that if such redemption or purchase would lead to a breach of the Bank’s TLAC requirements such redemption or purchase will be subject to the prior approval of the Superintendent.  Status: The Senior Notes will be direct unsecured liabilities of CIBC ranking pari passu with all other unsecured and unsubordinated debt of CIBC. The Senior Notes do not constitute deposits that are insured under the CDIC Act.  Bail-inable: The Senior Notes are bail-inable notes subject to conversion in whole or in part – by means of a transaction or series of transactions and in one or more steps – into common shares of the Bank or any of its affiliates under subsection 39.2(2.3) of the CDIC Act and to variation or extinguishment in consequence (“bail-in conversion”). Despite any other terms of the Senior Notes or laws governing the Senior Notes or any other agreement, arrangement or understanding with respect to the Senior Notes, each holder or beneficial owner of a Senior Note is bound by the CDIC Act, including the bail-in conversion, is subject to the application of the laws of the Province of Ontario and the federal laws of Canada applicable therein in respect of the operation of the CDIC Act with respect to the Senior Notes, and attorns to the jurisdiction of the courts in the Province of Ontario. For a description of Canadian bank resolution powers and the consequent risk factors attaching to the Senior Notes reference is made to  https://www.cibc.com/content/dam/about_cibc/investor_relations/pdfs/debt_info/disclosures/canadian-bail-in-website-disclosure-en.pdf which information is hereby incorporated by reference.  Subsequent Holders: Each holder or beneficial owner of a Senior Note that acquires an interest in the Senior Note in the secondary market and any successors, assigns, heirs, executors, administrators, trustees in bankruptcy and legal representatives of any such holder or beneficial owner shall be deemed to acknowledge, accept, agree to be bound by and consent to the same provisions specified in the Senior Note to the same extent as the holders or beneficial owners that acquire an interest in the Senior Note upon its initial issuance, including, without limitation, with respect to the acknowledgement and agreement to be bound by and consent to the terms of the Senior Note related to the bail-in regime.  \f - 2 - Events of Default: Non-payment of principal and interest when due for a period of 30 business days and acts of insolvency. Default rights may not be exercised where an order has been made pursuant to s. 39.13(1) of the CDIC Act in respect of the Bank. The Senior Notes will remain subject to bail-in conversion until repaid in full.  Business Day: Any day on which commercial banks are open for business (including dealings in foreign exchange and foreign currency deposits) in Toronto, Canada.  Discharge: CIBC will be discharged from its obligations under a Senior Note by paying to the holder or beneficial owner of the Senior Note all amounts stated to be payable on the terms set out herein. CIBC reserves the right to require surrender of the Senior Note to CIBC prior to making any final payment hereunder.  Book Entry Only System: The Senior Notes will be evidenced by a single global note held by CDS, or its nominee on its behalf, as registered holder of the global note. Registration and transfers of interests in the Senior Notes will be made only through the Book Entry Only system of CDS. The Senior Notes must be purchased either directly or indirectly through a participant in the CDS Book Entry Only system. Subject to certain limited exceptions, no holder will be entitled to any certificate or other instrument from CIBC or CDS evidencing the ownership thereof, and no holder will be shown on the records maintained by CDS except through an agent who is a participant of CDS.  Severability: Each provision of a Senior Note shall be treated as separate and distinct and if any provision a Senior Note is held to be unenforceable or invalid for any reason, it shall be modified, to the fullest extent permitted by law, in order to achieve, to the extent possible, the intent of CIBC and the holder or, if unable to be modified, to be ineffective only to the extent of each unenforceable or invalid provision, without affecting the enforceability or validity of the remaining provisions.  Set-Off: The holders and beneficial owners of the Senior Notes will not be entitled to exercise, or direct the exercise of, any set-off or netting rights with respect to the Senior Notes.  Governing Law: Ontario and the federal laws of Canada applicable therein.  Attornment: Courts of the Province of Ontario.   \f\n"
          ],
          "name": "stdout"
        }
      ]
    },
    {
      "cell_type": "code",
      "metadata": {
        "id": "O5zE5UNeKsWR",
        "colab_type": "code",
        "colab": {}
      },
      "source": [
        "data = extract_text_from_pdf(list(uploaded.keys())[0])\n",
        "data = data.lower()\n"
      ],
      "execution_count": null,
      "outputs": []
    },
    {
      "cell_type": "code",
      "metadata": {
        "id": "eI4lqoBsKSJ7",
        "colab_type": "code",
        "colab": {
          "base_uri": "https://localhost:8080/",
          "height": 137
        },
        "outputId": "a13622ba-b111-48c1-d886-de90308891fa"
      },
      "source": [
        "data"
      ],
      "execution_count": null,
      "outputs": [
        {
          "output_type": "execute_result",
          "data": {
            "application/vnd.google.colaboratory.intrinsic+json": {
              "type": "string"
            },
            "text/plain": [
              "' - 1 -     final terms of canadian imperial bank of commerce  5 year fixed rate senior notes    serial number:  7277  isin:  ca13607gfb55  principal amount:  c$1,500,000,000  issue date:  august 28, 2019  maturity date:  august 28, 2024  issue price: 100%     coupon rate:  2.35%  interest payment dates: interest will be paid half-yearly in arrears on the 28th day of each february and august; commencing february 28, 2020, and ending on the maturity date. if a day that would otherwise have been an interest payment date is not a business day, such interest payment date shall be the first following day that is a business day, and no further interest or other payment will be made in respect of such delay.    redemption: the senior notes are not redeemable prior to maturity. the foregoing notwithstanding, any redemption (for any reason) or purchase of the senior notes by the bank will be subject to the condition that if such redemption or purchase would lead to a breach of the bank’s tlac requirements such redemption or purchase will be subject to the prior approval of the superintendent.  status: the senior notes will be direct unsecured liabilities of cibc ranking pari passu with all other unsecured and unsubordinated debt of cibc. the senior notes do not constitute deposits that are insured under the cdic act.  bail-inable: the senior notes are bail-inable notes subject to conversion in whole or in part – by means of a transaction or series of transactions and in one or more steps – into common shares of the bank or any of its affiliates under subsection 39.2(2.3) of the cdic act and to variation or extinguishment in consequence (“bail-in conversion”). despite any other terms of the senior notes or laws governing the senior notes or any other agreement, arrangement or understanding with respect to the senior notes, each holder or beneficial owner of a senior note is bound by the cdic act, including the bail-in conversion, is subject to the application of the laws of the province of ontario and the federal laws of canada applicable therein in respect of the operation of the cdic act with respect to the senior notes, and attorns to the jurisdiction of the courts in the province of ontario. for a description of canadian bank resolution powers and the consequent risk factors attaching to the senior notes reference is made to  https://www.cibc.com/content/dam/about_cibc/investor_relations/pdfs/debt_info/disclosures/canadian-bail-in-website-disclosure-en.pdf which information is hereby incorporated by reference.  subsequent holders: each holder or beneficial owner of a senior note that acquires an interest in the senior note in the secondary market and any successors, assigns, heirs, executors, administrators, trustees in bankruptcy and legal representatives of any such holder or beneficial owner shall be deemed to acknowledge, accept, agree to be bound by and consent to the same provisions specified in the senior note to the same extent as the holders or beneficial owners that acquire an interest in the senior note upon its initial issuance, including, without limitation, with respect to the acknowledgement and agreement to be bound by and consent to the terms of the senior note related to the bail-in regime.  \\x0c - 2 - events of default: non-payment of principal and interest when due for a period of 30 business days and acts of insolvency. default rights may not be exercised where an order has been made pursuant to s. 39.13(1) of the cdic act in respect of the bank. the senior notes will remain subject to bail-in conversion until repaid in full.  business day: any day on which commercial banks are open for business (including dealings in foreign exchange and foreign currency deposits) in toronto, canada.  discharge: cibc will be discharged from its obligations under a senior note by paying to the holder or beneficial owner of the senior note all amounts stated to be payable on the terms set out herein. cibc reserves the right to require surrender of the senior note to cibc prior to making any final payment hereunder.  book entry only system: the senior notes will be evidenced by a single global note held by cds, or its nominee on its behalf, as registered holder of the global note. registration and transfers of interests in the senior notes will be made only through the book entry only system of cds. the senior notes must be purchased either directly or indirectly through a participant in the cds book entry only system. subject to certain limited exceptions, no holder will be entitled to any certificate or other instrument from cibc or cds evidencing the ownership thereof, and no holder will be shown on the records maintained by cds except through an agent who is a participant of cds.  severability: each provision of a senior note shall be treated as separate and distinct and if any provision a senior note is held to be unenforceable or invalid for any reason, it shall be modified, to the fullest extent permitted by law, in order to achieve, to the extent possible, the intent of cibc and the holder or, if unable to be modified, to be ineffective only to the extent of each unenforceable or invalid provision, without affecting the enforceability or validity of the remaining provisions.  set-off: the holders and beneficial owners of the senior notes will not be entitled to exercise, or direct the exercise of, any set-off or netting rights with respect to the senior notes.  governing law: ontario and the federal laws of canada applicable therein.  attornment: courts of the province of ontario.   \\x0c'"
            ]
          },
          "metadata": {
            "tags": []
          },
          "execution_count": 6
        }
      ]
    },
    {
      "cell_type": "code",
      "metadata": {
        "id": "QkokTjVGMpeY",
        "colab_type": "code",
        "colab": {
          "base_uri": "https://localhost:8080/",
          "height": 51
        },
        "outputId": "68cc6f7e-d6eb-45f1-c30c-dc763ef41ef9"
      },
      "source": [
        "import re\n",
        "pattern = []\n",
        "pattern0 = \"(?:january|february|march|april|may|june|july|august|september|october|november|december)\\s[0-2]{1}[0-9]{1},\\s[1-2]{1}[0-9]{3}\"\n",
        "pattern1 = \"(?:january|february|march|april|may|june|july|august|september|october|november|december)\\s[0-2]{1}[0-9]{1},\\s[1-2]{1}[0-9]{3}\"\n",
        "pattern2 = \"(?:jan|feb|mar|apr|may|jun|jul|aug|sep|oct|nov|dec)\\s[0-2]{1}[0-9]{1},\\s+[1-2]{1}[0-9]{3}\"\n",
        "pattern3 = \"(?:jan|feb|mar|apr|may|jun|jul|aug|sep|oct|nov|dec)\\s\\\\\\\\[0-2]{1}[0-9]{1}\\s\\\\\\\\[1-2]{1}[0-9]{3}\"\n",
        "pattern4 = \"(?:january|february|march|april|may|june|july|august|september|october|november|december)\\s\\\\\\\\[0-2]{1}[0-9]{1}\\s\\\\\\\\[1-2]{1}[0-9]{3}\"\n",
        "pattern5 = \"[0-2]{1}[0-9]{1}\\\\\\\\[0-1]{1}[0-9]{1}\\\\\\\\[1-2]{1}[0-9]{3}\"\n",
        "pattern6 = \"[0-2]{1}[0-9]{1}\\\\\\\\[0-1]{1}[0-9]{1}\\\\\\\\[0-9]{2}\"\n",
        "pattern7 = \"[0-2]{1}[0-9]{1}[-][0-1]{1}[0-9]{1}[-][0-9]{2}\"\n",
        "pattern8 = \"[0-2]{1}[0-9]{1}[-][0-1]{1}[0-9]{1}[-][1-2][0-9]{3}\"\n",
        "pattern9 = \"[0-2]{1}[0-9]{1}[\\.][0-1]{1}[0-9]{1}[\\.][1-2][0-9]{3}\"\n",
        "pattern10 = \"[0-9]{2}\\s(?:january|february|march|april|may|june|july|august|september|october|november|december)\\s[1-2]{1}[0-9]{3}\"\n",
        "pattern11 = \"[0-9]{2}\\s(?:jan|feb|mar|apr|may|jun|jul|aug|sep|oct|nov|dec)\\s[1-2]{1}[0-9]{3}\"\n",
        "pattern12 = \"[0-9]{2}\\s(?:january|february|march|april|may|june|july|august|september|october|november|december)\\s[1-2]{1}[0-9]{3}\"\n",
        "pattern.append(pattern0)\n",
        "pattern.append(pattern1)\n",
        "pattern.append(pattern2)\n",
        "pattern.append(pattern3)\n",
        "pattern.append(pattern4)\n",
        "pattern.append(pattern5)\n",
        "pattern.append(pattern6)\n",
        "pattern.append(pattern7)\n",
        "pattern.append(pattern8)\n",
        "pattern.append(pattern9)\n",
        "pattern.append(pattern10)\n",
        "pattern.append(pattern11)\n",
        "pattern.append(pattern12)\n",
        "x = {}\n",
        "indices = []\n",
        "for patt in pattern:\n",
        "    tmp = re.findall(patt, data)\n",
        "    iter = re.finditer(patt, data)\n",
        "    indices = [m.start(0) for m in iter]\n",
        "    for (a,b) in zip(tmp, indices):\n",
        "      x[b] = a\n",
        "print(x)\n",
        "print(iter)"
      ],
      "execution_count": null,
      "outputs": [
        {
          "output_type": "stream",
          "text": [
            "{188: 'august 28, 2019', 221: 'august 28, 2024', 406: 'february 28, 2020'}\n",
            "<callable_iterator object at 0x7f3a623e1828>\n"
          ],
          "name": "stdout"
        }
      ]
    },
    {
      "cell_type": "code",
      "metadata": {
        "id": "vAPNLa7-47gs",
        "colab_type": "code",
        "colab": {
          "base_uri": "https://localhost:8080/",
          "height": 68
        },
        "outputId": "fddea619-bf10-4f39-853c-51a7b8738199"
      },
      "source": [
        "indicesOfIssue = []\n",
        "\n",
        "for m in re.finditer('issue', data):\n",
        "  indicesOfIssue.append(m.start())\n",
        "\n",
        "for m in re.finditer('issue opens', data):\n",
        "  indicesOfIssue.append(m.start())\n",
        "\n",
        "print(indicesOfIssue) \n",
        "print(x.keys())\n",
        "list(x.keys())"
      ],
      "execution_count": null,
      "outputs": [
        {
          "output_type": "stream",
          "text": [
            "[175, 238]\n",
            "dict_keys([188, 221, 406])\n"
          ],
          "name": "stdout"
        },
        {
          "output_type": "execute_result",
          "data": {
            "text/plain": [
              "[188, 221, 406]"
            ]
          },
          "metadata": {
            "tags": []
          },
          "execution_count": 8
        }
      ]
    },
    {
      "cell_type": "code",
      "metadata": {
        "id": "-c4PQ2r06vTm",
        "colab_type": "code",
        "colab": {
          "base_uri": "https://localhost:8080/",
          "height": 68
        },
        "outputId": "7a84262d-d41d-495e-8634-b5ad91d8b430"
      },
      "source": [
        "def findBestPossibleValueForDate(x, indicesOfIssue):\n",
        "  bestIndex = {}\n",
        "  for k in indicesOfIssue:\n",
        "    indices = list(x.keys()) \n",
        "    minval = abs(k-indices[0])\n",
        "    minIndex = indices[0]\n",
        "    for j in indices:\n",
        "      if(abs(k-j) < minval):\n",
        "        minval = abs(k-j)\n",
        "        minIndex = j\n",
        "    bestIndex[minIndex] = minval\n",
        "  return bestIndex\n",
        "val = findBestPossibleValueForDate(x, indicesOfIssue)\n",
        "print(val)\n",
        "bestIndexSolution = 1000000\n",
        "bestIndex = -1\n",
        "for i in list(val.keys()):\n",
        "  if(val[i]<bestIndexSolution):\n",
        "    bestIndex = i\n",
        "    bestIndexSolution = val[i]\n",
        "print(x[bestIndex])\n",
        "\n",
        "del x[bestIndex] \n",
        "print(x)"
      ],
      "execution_count": null,
      "outputs": [
        {
          "output_type": "stream",
          "text": [
            "{188: 13, 221: 17}\n",
            "august 28, 2019\n",
            "{221: 'august 28, 2024', 406: 'february 28, 2020'}\n"
          ],
          "name": "stdout"
        }
      ]
    },
    {
      "cell_type": "code",
      "metadata": {
        "id": "7wBJhiNIHO4V",
        "colab_type": "code",
        "colab": {
          "base_uri": "https://localhost:8080/",
          "height": 34
        },
        "outputId": "b48b1413-8f40-4991-cf60-23a57dbff5a8"
      },
      "source": [
        "print(x)"
      ],
      "execution_count": null,
      "outputs": [
        {
          "output_type": "stream",
          "text": [
            "{221: 'august 28, 2024', 406: 'february 28, 2020'}\n"
          ],
          "name": "stdout"
        }
      ]
    },
    {
      "cell_type": "code",
      "metadata": {
        "id": "_TOx0IcZ9ocD",
        "colab_type": "code",
        "colab": {
          "base_uri": "https://localhost:8080/",
          "height": 68
        },
        "outputId": "590edba0-be13-449b-925e-733f4c04cea9"
      },
      "source": [
        "indicesOfMaturity = []\n",
        "for m in re.finditer('maturity date', data):\n",
        "  indicesOfMaturity.append(m.start())\n",
        "\n",
        "for m in re.finditer('maturity', data):\n",
        "  indicesOfMaturity.append(m.start())\n",
        "\n",
        "for m in re.finditer('issue closes', data):\n",
        "  indicesOfMaturity.append(m.start())\n",
        "\n",
        "print(indicesOfMaturity) \n",
        "print(x.keys())\n",
        "list(x.keys())"
      ],
      "execution_count": null,
      "outputs": [
        {
          "output_type": "stream",
          "text": [
            "[205, 443, 205, 443, 770]\n",
            "dict_keys([221, 406])\n"
          ],
          "name": "stdout"
        },
        {
          "output_type": "execute_result",
          "data": {
            "text/plain": [
              "[221, 406]"
            ]
          },
          "metadata": {
            "tags": []
          },
          "execution_count": 11
        }
      ]
    },
    {
      "cell_type": "code",
      "metadata": {
        "id": "UA5XBmCH92lc",
        "colab_type": "code",
        "colab": {
          "base_uri": "https://localhost:8080/",
          "height": 51
        },
        "outputId": "5cbcb087-2f6b-4e6c-f053-1ce7f2100d2e"
      },
      "source": [
        "valMaturity = findBestPossibleValueForDate(x, indicesOfMaturity)\n",
        "print(valMaturity)\n",
        "bestIndexSolution = 1000000\n",
        "bestIndex = -1\n",
        "for i in list(valMaturity.keys()):\n",
        "  if(valMaturity[i]<bestIndexSolution):\n",
        "    bestIndex = i\n",
        "    bestIndexSolution = valMaturity[i]\n",
        "print(x[bestIndex])"
      ],
      "execution_count": null,
      "outputs": [
        {
          "output_type": "stream",
          "text": [
            "{221: 16, 406: 364}\n",
            "august 28, 2024\n"
          ],
          "name": "stdout"
        }
      ]
    },
    {
      "cell_type": "code",
      "metadata": {
        "id": "Do-VWK29Kuim",
        "colab_type": "code",
        "colab": {
          "base_uri": "https://localhost:8080/",
          "height": 34
        },
        "outputId": "59b9534d-eca2-4228-add7-72718e66abfb"
      },
      "source": [
        "import re, datetime\n",
        "print(a)\n",
        "#all = re.findall(r\"([Issue]+\\s[Date: ]+\\s(?:January|February|March|April|May|June|July|August|September|October|November|December)\\s[\\d]{1,2}[,]\\s[\\d]{4})\", a)\n",
        "#all = re.findall(r\"([Issue]+\\s[Date: ]+[\\d]{1,2}\\s(January|February|March|April|May|June|July|August|September|October|November|December)\\s[\\d]{4})\", a)\n",
        "all = re.findall(r\"([ISSUE OPENS:   ]+[\\d]{1,2}[.][\\d]{1,2}[.][\\d]{4})\", a)\n",
        "#for s in all:\n",
        "#    print(s)"
      ],
      "execution_count": null,
      "outputs": [
        {
          "output_type": "stream",
          "text": [
            "february 28, 2020\n"
          ],
          "name": "stdout"
        }
      ]
    },
    {
      "cell_type": "code",
      "metadata": {
        "id": "4UPwHBbnNUQd",
        "colab_type": "code",
        "colab": {}
      },
      "source": [
        ""
      ],
      "execution_count": null,
      "outputs": []
    }
  ]
}